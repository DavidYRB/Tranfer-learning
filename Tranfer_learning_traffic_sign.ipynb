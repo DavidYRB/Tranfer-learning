{
 "cells": [
  {
   "cell_type": "code",
   "execution_count": 1,
   "metadata": {},
   "outputs": [
    {
     "name": "stdout",
     "output_type": "stream",
     "text": [
      "(39209, 32, 32, 3)\n"
     ]
    }
   ],
   "source": [
    "import pickle\n",
    "import tensorflow as tf\n",
    "from sklearn.model_selection import train_test_split\n",
    "from alexnet import AlexNet\n",
    "import time\n",
    "\n",
    "# TODO: Load traffic signs data.\n",
    "with open('train.p', mode='rb') as f:\n",
    "\ttrain = pickle.load(f)\n",
    "\n",
    "X_train, y_train = train['features'], train['labels']\n",
    "class_num = 43\n",
    "print(X_train.shape)"
   ]
  },
  {
   "cell_type": "code",
   "execution_count": 2,
   "metadata": {
    "collapsed": true
   },
   "outputs": [],
   "source": [
    "# TODO: Split data into training and validation sets.\n",
    "X_train, X_valid, y_train, y_valid = train_test_split(X_train, y_train, test_size=0.25)\n",
    "# TODO: Define placeholders and resize operation.\n",
    "x = tf.placeholder(tf.float32, (None, 32, 32, 3))\n",
    "resized = tf.image.resize_images(x, (227,227))\n",
    "y = tf.placeholder(tf.int32, (None))\n",
    "y_one_hot = tf.one_hot(y, class_num)\n",
    "\n",
    "# TODO: pass placeholder as first argument to `AlexNet`.\n",
    "fc7 = AlexNet(resized, feature_extract=True)\n",
    "# NOTE: `tf.stop_gradient` prevents the gradient from flowing backwards\n",
    "# past this point, keeping the weights before and up to `fc7` frozen.\n",
    "# This also makes training faster, less work to do!\n",
    "fc7 = tf.stop_gradient(fc7)"
   ]
  },
  {
   "cell_type": "code",
   "execution_count": 3,
   "metadata": {
    "collapsed": true
   },
   "outputs": [],
   "source": [
    "# TODO: Add the final layer for traffic sign classification.\n",
    "shape = (fc7.get_shape().as_list()[-1], class_num)\n",
    "mu = 0\n",
    "sigma = 0.1\n",
    "EPOCHS = 10\n",
    "BATCH_SIZE = 128\n",
    "\n",
    "wfc8 = tf.Variable(tf.truncated_normal(shape = shape, mean = mu, stddev = sigma))\n",
    "bfc8 = tf.Variable(tf.zeros(class_num))\n",
    "logits = tf.matmul(fc7, wfc8) + bfc8"
   ]
  },
  {
   "cell_type": "code",
   "execution_count": 4,
   "metadata": {
    "collapsed": true
   },
   "outputs": [],
   "source": [
    "# TODO: Define loss, training, accuracy operations.\n",
    "# HINT: Look back at your traffic signs project solution, you may\n",
    "# be able to reuse some the code.\n",
    "cross_entropy = tf.nn.softmax_cross_entropy_with_logits(labels=y_one_hot, logits=logits)\n",
    "loss_operation = tf.reduce_mean(cross_entropy)\n",
    "optimizer = tf.train.AdamOptimizer()\n",
    "train_oper = optimizer.minimize(loss_operation)\n",
    "\n",
    "correct_prediction = tf.equal(tf.argmax(logits,1), tf.argmax(y_one_hot,1))\n",
    "accuracy_operation = tf.reduce_mean(tf.cast(correct_prediction, tf.float32))"
   ]
  },
  {
   "cell_type": "code",
   "execution_count": 5,
   "metadata": {
    "collapsed": true
   },
   "outputs": [],
   "source": [
    "# TODO: Train and evaluate the feature extraction model.\n",
    "def evaluate(x_data, y_data, sess):\n",
    "\tnum_example = len(x_data)\n",
    "\ttotal_accu = 0\n",
    "\tfor i in range(0, num_example, BATCH_SIZE):\n",
    "        \n",
    "\t\tbatch_x, batch_y = x_data[i:i+BATCH_SIZE], y_data[i:i+BATCH_SIZE]\n",
    "\t\taccuracy = sess.run(accuracy_operation, feed_dict={x:batch_x, y:batch_y})\n",
    "\t\ttotal_accu += accuracy * len(batch_x)\n",
    "\n",
    "\treturn total_accu/num_example"
   ]
  },
  {
   "cell_type": "code",
   "execution_count": 9,
   "metadata": {},
   "outputs": [
    {
     "name": "stdout",
     "output_type": "stream",
     "text": [
      "training...\n",
      "EPOCH: 1 Validation Accuracy:  0.769152300669 time:  80.42153906822205\n",
      "EPOCH: 2 Validation Accuracy:  0.861674997316 time:  80.404057264328\n",
      "EPOCH: 3 Validation Accuracy:  0.899418545209 time:  80.41209292411804\n",
      "EPOCH: 4 Validation Accuracy:  0.918290319059 time:  80.40559911727905\n",
      "EPOCH: 5 Validation Accuracy:  0.931551565616 time:  80.42961192131042\n",
      "EPOCH: 6 Validation Accuracy:  0.938386207975 time:  80.3940486907959\n",
      "EPOCH: 7 Validation Accuracy:  0.946036927046 time:  80.42500615119934\n",
      "EPOCH: 8 Validation Accuracy:  0.949709272246 time:  80.4218602180481\n",
      "EPOCH: 9 Validation Accuracy:  0.953279608216 time:  80.42797350883484\n",
      "EPOCH: 10 Validation Accuracy:  0.957462001361 time:  80.41802191734314\n",
      "model saved.\n"
     ]
    }
   ],
   "source": [
    "saver = tf.train.Saver()\n",
    "\n",
    "# Train \n",
    "with tf.Session() as sess:\n",
    "    sess.run(tf.global_variables_initializer())\n",
    "    print('training...')\n",
    "    for epoch in range(EPOCHS):\n",
    "        time1 = time.time()\n",
    "        for i in range(0, X_train.shape[0], BATCH_SIZE):\n",
    "            batch_x, batch_y = X_train[i:i+BATCH_SIZE], y_train[i:i+BATCH_SIZE]\n",
    "            sess.run(train_oper, feed_dict={x:batch_x, y:batch_y})\n",
    "        time2 = time.time()\n",
    "        valid_acc = evaluate(X_valid, y_valid, sess)\n",
    "\n",
    "        print('EPOCH: {}'.format(epoch +1), 'Validation Accuracy: ', valid_acc, 'time: ', time2-time1)\n",
    "\n",
    "    saver.save(sess,'./trained_model')\n",
    "    print('model saved.')\n",
    "\n",
    "# Test\n",
    "# with tf.Session() as sess:\n",
    "# \tsaver.restore(sess, tf.train.latest_checkpoint('.'))\n",
    "# \tprediction = sess.run(tf.argmax(logits, 1), feed_dict={x:x})"
   ]
  },
  {
   "cell_type": "code",
   "execution_count": null,
   "metadata": {
    "collapsed": true
   },
   "outputs": [],
   "source": []
  }
 ],
 "metadata": {
  "kernelspec": {
   "display_name": "Python 3",
   "language": "python",
   "name": "python3"
  },
  "language_info": {
   "codemirror_mode": {
    "name": "ipython",
    "version": 3
   },
   "file_extension": ".py",
   "mimetype": "text/x-python",
   "name": "python",
   "nbconvert_exporter": "python",
   "pygments_lexer": "ipython3",
   "version": "3.5.2"
  },
  "widgets": {
   "state": {},
   "version": "1.1.2"
  }
 },
 "nbformat": 4,
 "nbformat_minor": 2
}
